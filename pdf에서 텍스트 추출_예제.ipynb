{
 "cells": [
  {
   "cell_type": "code",
   "execution_count": 9,
   "metadata": {},
   "outputs": [],
   "source": [
    "import pdfplumber"
   ]
  },
  {
   "cell_type": "code",
   "execution_count": 16,
   "metadata": {},
   "outputs": [
    {
     "name": "stdout",
     "output_type": "stream",
     "text": [
      "ClinicalCancerResearch2165\n",
      "respect to age, tumor size, and use of radiotherapy. In keeping Table1 Summaryofpatientcharacteristics\n",
      "withestablishedriskfactors,womenthatrecurredtendedtohave\n",
      "Studygroup\n",
      "close(<1mm)orinvolvedsurgicalexcisionmargins(P=0.03),\n",
      "Characteristic Nonrecurrent Recurrent P\n",
      "withhighernuclear-gradetumors(P=0.001)thatshowedhigher\n",
      "rates of proliferation (P = 0.005;Table 1). No.ofpatients 90 39\n",
      "Age(y), 56(42-82) 55(39-65) 0.198\n",
      "HER2, HER3, and HER4 Expression Frequencies.\n",
      "median(range)\n",
      "Overall, HER2 was expressed in 65% (84/129), HER3 in Medianrecurrence — 21(10-60) —\n",
      "56%(59/105),andHER4in55%(71/129)ofDCISstudied.On time(mo),median\n",
      "a small proportion of blocks there was insufficient tissue (range)\n",
      "Tumorgrade(%)\n",
      "available, therefore HER3 receptor status was not obtained on\n",
      "Low 12(13.3) 0(0.0) 0.001\n",
      "allDCISstudied.Ofthe105caseswhereexpressionofallthree\n",
      "Intermediate 34(37.8) 6(15.4)\n",
      "receptors was known, 4% (4/105) expressed none of the High 44(48.9) 33(84.6)\n",
      "receptors, 16% (17/105) expressed HER2 alone, 5% (5/105) Tumorsize(mm), 20(4toextensive) 16(4toextensive) 0.208\n",
      "expressed HER3 alone, 17% (18/105) expressed HER4 alone, median(range)\n",
      "ERstatus(%)\n",
      "18% (19/105) expressed HER2 and HER3, 8% (8/105)\n",
      "Positive 60(69.0) 23(60.5) 0.358\n",
      "expressed HER2 and HER4, 8% (9/105) expressed HER3 and Negative 27(31.0) 15(39.5)\n",
      "HER4, and 24% (25/105) expressed all three receptors. Ki67(%),median 10.9(0.5-38.3) 15.5(2.0-61.1) 0.005\n",
      "HER2andHER3wereexpressedinagreaterproportionof (range)\n",
      "Excisionmargin\n",
      "DCIS that subsequently recurred by 5 years than in nonrecur-\n",
      "status(%)\n",
      "rent cases. HER2 was expressed in 57.8% (52/90) of the\n",
      "Involvezd(<1mm) 13(14.5) 16(41.0) 0.03\n",
      "nonrecurrent tumors, compared with 82.1% (32/39) recurrent Clear( 1mm) 65(72.2) 22(56.4)\n",
      "cases (P = 0.008), and HER3 in 49% (35/71) nonrecurrent, Unknown 12(13.3) 1(2.6)\n",
      "comparedwith71%(24/34)inrecurrentDCIS(P =0.04).This Adjuvantradiotherapy 6(7) 2(5) 0.9\n",
      "was in contrast to the expression pattern of HER4, which\n",
      "showed significantly lower overall positivity in the recurrent\n",
      "advantage (P = 0.0052; Fig. 2B). Expression of HER4 in\n",
      "group. Only 35.9% (14/39) of recurrent cases were HER4\n",
      "the absence of HER2 (Fig. 2C) led to a disease-free survival\n",
      "positive, but this figure increased to 63.3% (57/90) expression\n",
      "advantage (P = 0.0058) over the other coexpression groupings.\n",
      "in nonrecurrent DCIS (P = 0.004).\n",
      "TherecurrencepatternforHER3expression wassimilar tothat\n",
      "HER2/HER4 Coexpression. Tumors that were HER2\n",
      "of HER2 (data not shown), and DCIS coexpressing HER2 and\n",
      "positive but HER4 negative showed reduced ER positivity\n",
      "HER3 had the worst outcome (Fig. 2D).\n",
      "(52.5%) compared with any other group. However, the\n",
      "Multivariate Analysis. Higher nuclear grade and higher\n",
      "percentage of ER positivity increased if the DCIS dually\n",
      "DCISproliferationrateswerebothindependentlyassociatedwith\n",
      "expressed HER2 and HER4 (73.2%; P = 0.05; Table 2). In\n",
      "anincreasedriskofrecurrence,aswasalackofHER4expression,\n",
      "addition, proliferative rate varied between the coexpression\n",
      "confirmingthatHER4expressionpredictedrecurrenceirrespec-\n",
      "groups (P = 0.007; Table 2). HER2-positive/HER4-negative\n",
      "tiveofnucleargradeandcellproliferation(Table3).\n",
      "DCIS had a higher proliferation rate than HER2-negative/\n",
      "HER4-positive DCIS (P = 0.001; Mann-Whitney). There were\n",
      "nosignificantdifferencesbetweenRTKcoexpressionandDCIS\n",
      "nuclear grade (Table 2) or tumor size (data not shown). DISCUSSION\n",
      "Whereas 52.3% of the DCIS that developed recurrence Common clinical factors that aid prediction of recurrence\n",
      "within 5 years was HER2 positive/HER4 negative, only 5.1% risk for DCIS include high nuclear grade, high cellular\n",
      "expressed HER4 alone (Table 2). In contrast, only 24.5% of proliferationrates,involvedsurgicalexcisionmargins,presence\n",
      "nonrecurrent DCIS solely expressed HER2, and a greater of comedo necrosis, and a younger age at diagnosis (3–7). In\n",
      "proportionofcases(30.0%)wereHER2negative/HER4positive this study, the established clinicopathologic risk factors of\n",
      "(Table 2). The associations of receptor coexpression and nuclear grade, margin status, and cell proliferation were all\n",
      "recurrence remained when analyzing only high-nuclear-grade univariate predictors of recurrence, but on multivariate analysis\n",
      "DCIS (P = 0.015) or breast-conserving surgery (P = 0.001; only nuclear grade and proliferation rate remained independent\n",
      "Table2).Therewasnoinfluenceofreceptorcoexpressiononthe predictors, along with lack of HER4 expression.\n",
      "abilitytoachieveclearmargins(P=0.942)andtheERstatusof Little has been published on the molecular biological\n",
      "thetumorsdidnotinfluencerecurrenceofHER4-positiveDCIS markers thatcould aidprediction ofprognosis inDCIS.Recent\n",
      "(P=0.8;datanotshown).WhenincludingHER3coexpression, studieshavelookedatcellcycleregulators,suchasp21,p27and\n",
      "63% of the cases that were HER2 positive/HER3 positive but cyclin D1 (19–22), as potential biological markers, but have\n",
      "HER4 negative recurred. In contrast, only 6%of the DCISthat publishedconflictingresultsabouttheroleandtheutilityofthese\n",
      "was HER4 positive/HER2 and HER3 negative were in the variablesasindicatorsofrecurrencerisk.Somestudiesreported\n",
      "recurrent group. p21expressiontobeassociatedwithadvantageoustumorfactors,\n",
      "Recurrence-Free Survival. HER2-overexpressing DCIS suchaslow-gradeandERpositivity(19),butotherswithadverse\n",
      "had poorer cumulative 5-year disease-free survival than HER2- factors, such as high-grade, HER2 overexpression, and recur-\n",
      "negative cases (P = 0.0102; Fig. 2A). In contrast, HER4- rence (21, 22). No biological markers that have direct clinical\n",
      "expressing tumors had a significant disease-free survival relevance to DCIS have been reported. To our knowledge, no\n",
      "Downloaded from clincancerres.aacrjournals.org on September 8, 2020. © 2005 American Association for\n",
      "Cancer Research. \n"
     ]
    }
   ],
   "source": [
    "with pdfplumber.open(r'D:\\test6.pdf') as pdf:\n",
    "    first_page = pdf.pages[2]\n",
    "    print(first_page.extract_text())"
   ]
  },
  {
   "cell_type": "code",
   "execution_count": null,
   "metadata": {},
   "outputs": [],
   "source": []
  }
 ],
 "metadata": {
  "kernelspec": {
   "display_name": "Python 3.8.3 64-bit",
   "language": "python",
   "name": "python38364bit3bcb46cfd3c64366bd6bd071ff6f23c8"
  },
  "language_info": {
   "codemirror_mode": {
    "name": "ipython",
    "version": 3
   },
   "file_extension": ".py",
   "mimetype": "text/x-python",
   "name": "python",
   "nbconvert_exporter": "python",
   "pygments_lexer": "ipython3",
   "version": "3.8.5"
  }
 },
 "nbformat": 4,
 "nbformat_minor": 4
}
